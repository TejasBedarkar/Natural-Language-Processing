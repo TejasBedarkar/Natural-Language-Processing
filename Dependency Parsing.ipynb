{
 "cells": [
  {
   "cell_type": "code",
   "execution_count": null,
   "id": "9c97dd60",
   "metadata": {},
   "outputs": [],
   "source": [
    "Used to understand the grammatical structure and relationships between words in a sentence.\n",
    "\n",
    "it helps us to figure out how words in a sentance are connected to each other and which words are the main subjects,objects and \n",
    "modifiers."
   ]
  },
  {
   "cell_type": "code",
   "execution_count": 1,
   "id": "be10260f",
   "metadata": {},
   "outputs": [],
   "source": [
    "import spacy"
   ]
  },
  {
   "cell_type": "code",
   "execution_count": 3,
   "id": "080c12ea",
   "metadata": {
    "scrolled": true
   },
   "outputs": [
    {
     "name": "stdout",
     "output_type": "stream",
     "text": [
      "The | det | cat\n",
      "cat | nsubj | chased\n",
      "chased | ROOT | chased\n",
      "the | det | mouse\n",
      "mouse | dobj | chased\n",
      ". | punct | chased\n"
     ]
    }
   ],
   "source": [
    "# load the english language\n",
    "\n",
    "nlp=spacy.load(\"en_core_web_sm\")\n",
    "\n",
    "# process a sentence\n",
    "sentence = \"The cat chased the mouse.\"\n",
    "doc=nlp(sentence)\n",
    "\n",
    "# print the tokens and their dependency relationships\n",
    "for token in doc:\n",
    "    print(token.text,\"|\",token.dep_,\"|\",token.head.text)"
   ]
  },
  {
   "cell_type": "code",
   "execution_count": null,
   "id": "23c960ee",
   "metadata": {},
   "outputs": [],
   "source": [
    "# Dependency relationship (token.dep_)\n",
    "\n",
    "# the head word to which it's connected(token.head.txt)"
   ]
  },
  {
   "cell_type": "code",
   "execution_count": 4,
   "id": "a7b1f77d",
   "metadata": {},
   "outputs": [
    {
     "name": "stdout",
     "output_type": "stream",
     "text": [
      "nominal subject\n"
     ]
    }
   ],
   "source": [
    "print(spacy.explain(\"nsubj\"))"
   ]
  },
  {
   "cell_type": "code",
   "execution_count": 5,
   "id": "8cc1b29b",
   "metadata": {},
   "outputs": [
    {
     "name": "stdout",
     "output_type": "stream",
     "text": [
      "John | nsubj | reads\n",
      "reads | ROOT | reads\n",
      "a | det | book\n",
      "book | dobj | reads\n",
      "in | prep | book\n",
      "the | det | library\n",
      "library | pobj | in\n",
      ". | punct | reads\n"
     ]
    }
   ],
   "source": [
    "sen=\"John reads a book in the library.\"\n",
    "doc=nlp(sen)\n",
    "\n",
    "for token in doc:\n",
    "    print(token.text,\"|\",token.dep_,\"|\",token.head.text)"
   ]
  }
 ],
 "metadata": {
  "kernelspec": {
   "display_name": "Python 3 (ipykernel)",
   "language": "python",
   "name": "python3"
  },
  "language_info": {
   "codemirror_mode": {
    "name": "ipython",
    "version": 3
   },
   "file_extension": ".py",
   "mimetype": "text/x-python",
   "name": "python",
   "nbconvert_exporter": "python",
   "pygments_lexer": "ipython3",
   "version": "3.11.5"
  }
 },
 "nbformat": 4,
 "nbformat_minor": 5
}

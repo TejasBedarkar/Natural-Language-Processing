{
 "cells": [
  {
   "cell_type": "code",
   "execution_count": 3,
   "id": "b3434ff2",
   "metadata": {
    "scrolled": true
   },
   "outputs": [
    {
     "name": "stdout",
     "output_type": "stream",
     "text": [
      "The quick brown for jumps over the lazy dog. Cats are friendly animals.\n"
     ]
    }
   ],
   "source": [
    "text_file=open(\"note.txt\")\n",
    "text=text_file.read()\n",
    "print(text)"
   ]
  },
  {
   "cell_type": "code",
   "execution_count": 9,
   "id": "339e7fcf",
   "metadata": {},
   "outputs": [
    {
     "name": "stderr",
     "output_type": "stream",
     "text": [
      "[nltk_data] Downloading package punkt to\n",
      "[nltk_data]     C:\\Users\\Asus\\AppData\\Roaming\\nltk_data...\n",
      "[nltk_data]   Unzipping tokenizers\\punkt.zip.\n"
     ]
    },
    {
     "data": {
      "text/plain": [
       "True"
      ]
     },
     "execution_count": 9,
     "metadata": {},
     "output_type": "execute_result"
    }
   ],
   "source": [
    "nltk.download('punkt')"
   ]
  },
  {
   "cell_type": "code",
   "execution_count": 10,
   "id": "cd626a5f",
   "metadata": {},
   "outputs": [
    {
     "name": "stdout",
     "output_type": "stream",
     "text": [
      "['The quick brown for jumps over the lazy dog.', 'Cats are friendly animals.']\n"
     ]
    }
   ],
   "source": [
    "# Sentence tokenization\n",
    "from nltk import sent_tokenize\n",
    "\n",
    "sentence_tok=sent_tokenize(text)\n",
    "print(sentence_tok)"
   ]
  },
  {
   "cell_type": "code",
   "execution_count": 29,
   "id": "651a27bf",
   "metadata": {},
   "outputs": [
    {
     "name": "stdout",
     "output_type": "stream",
     "text": [
      "['the', 'quick', 'brown', 'for', 'jumps', 'over', 'the', 'lazy', 'dog', '.', 'cats', 'are', 'friendly', 'animals', '.']\n"
     ]
    }
   ],
   "source": [
    "# Word tokenization\n",
    "from nltk import word_tokenize\n",
    "text_tok=word_tokenize(text.lower())\n",
    "print(text_tok)"
   ]
  },
  {
   "cell_type": "code",
   "execution_count": 15,
   "id": "450fd586",
   "metadata": {},
   "outputs": [
    {
     "data": {
      "text/plain": [
       "'!\"#$%&\\'()*+,-./:;<=>?@[\\\\]^_`{|}~'"
      ]
     },
     "execution_count": 15,
     "metadata": {},
     "output_type": "execute_result"
    }
   ],
   "source": [
    "# remove punctuation\n",
    "from string import punctuation\n",
    "punctuation"
   ]
  },
  {
   "cell_type": "code",
   "execution_count": 17,
   "id": "ace3bc8f",
   "metadata": {},
   "outputs": [
    {
     "data": {
      "text/plain": [
       "False"
      ]
     },
     "execution_count": 17,
     "metadata": {},
     "output_type": "execute_result"
    }
   ],
   "source": [
    "\"nlp\"==\"nlp.\"# Just remember"
   ]
  },
  {
   "cell_type": "code",
   "execution_count": 20,
   "id": "c9beafb2",
   "metadata": {},
   "outputs": [
    {
     "name": "stdout",
     "output_type": "stream",
     "text": [
      "The quick brown for jumps over the lazy dog Cats are friendly animals\n"
     ]
    }
   ],
   "source": [
    "# List Comprihantion\n",
    "text_clean=\"\".join([char for char in text if char not in punctuation])\n",
    "print(text_clean)"
   ]
  },
  {
   "cell_type": "code",
   "execution_count": 22,
   "id": "2961509c",
   "metadata": {},
   "outputs": [
    {
     "name": "stderr",
     "output_type": "stream",
     "text": [
      "[nltk_data] Downloading package stopwords to\n",
      "[nltk_data]     C:\\Users\\Asus\\AppData\\Roaming\\nltk_data...\n",
      "[nltk_data]   Unzipping corpora\\stopwords.zip.\n"
     ]
    },
    {
     "data": {
      "text/plain": [
       "True"
      ]
     },
     "execution_count": 22,
     "metadata": {},
     "output_type": "execute_result"
    }
   ],
   "source": [
    "nltk.download('stopwords')"
   ]
  },
  {
   "cell_type": "code",
   "execution_count": 25,
   "id": "c7d98d60",
   "metadata": {},
   "outputs": [
    {
     "name": "stdout",
     "output_type": "stream",
     "text": [
      "['i', 'me', 'my', 'myself', 'we', 'our', 'ours', 'ourselves', 'you', \"you're\", \"you've\", \"you'll\", \"you'd\", 'your', 'yours', 'yourself', 'yourselves', 'he', 'him', 'his', 'himself', 'she', \"she's\", 'her', 'hers', 'herself', 'it', \"it's\", 'its', 'itself', 'they', 'them', 'their', 'theirs', 'themselves', 'what', 'which', 'who', 'whom', 'this', 'that', \"that'll\", 'these', 'those', 'am', 'is', 'are', 'was', 'were', 'be', 'been', 'being', 'have', 'has', 'had', 'having', 'do', 'does', 'did', 'doing', 'a', 'an', 'the', 'and', 'but', 'if', 'or', 'because', 'as', 'until', 'while', 'of', 'at', 'by', 'for', 'with', 'about', 'against', 'between', 'into', 'through', 'during', 'before', 'after', 'above', 'below', 'to', 'from', 'up', 'down', 'in', 'out', 'on', 'off', 'over', 'under', 'again', 'further', 'then', 'once', 'here', 'there', 'when', 'where', 'why', 'how', 'all', 'any', 'both', 'each', 'few', 'more', 'most', 'other', 'some', 'such', 'no', 'nor', 'not', 'only', 'own', 'same', 'so', 'than', 'too', 'very', 's', 't', 'can', 'will', 'just', 'don', \"don't\", 'should', \"should've\", 'now', 'd', 'll', 'm', 'o', 're', 've', 'y', 'ain', 'aren', \"aren't\", 'couldn', \"couldn't\", 'didn', \"didn't\", 'doesn', \"doesn't\", 'hadn', \"hadn't\", 'hasn', \"hasn't\", 'haven', \"haven't\", 'isn', \"isn't\", 'ma', 'mightn', \"mightn't\", 'mustn', \"mustn't\", 'needn', \"needn't\", 'shan', \"shan't\", 'shouldn', \"shouldn't\", 'wasn', \"wasn't\", 'weren', \"weren't\", 'won', \"won't\", 'wouldn', \"wouldn't\"]\n"
     ]
    }
   ],
   "source": [
    "# Remove stopwords\n",
    "from nltk.corpus import stopwords\n",
    "stopwords = stopwords.words(\"english\")\n",
    "print(stopwords)"
   ]
  },
  {
   "cell_type": "code",
   "execution_count": 30,
   "id": "d4b7d505",
   "metadata": {},
   "outputs": [
    {
     "name": "stdout",
     "output_type": "stream",
     "text": [
      "['quick', 'brown', 'jumps', 'lazy', 'dog', '.', 'cats', 'friendly', 'animals', '.']\n"
     ]
    }
   ],
   "source": [
    "text_clean=[char for char in text_tok if char not in stopwords]\n",
    "print(text_clean)"
   ]
  },
  {
   "cell_type": "code",
   "execution_count": 34,
   "id": "3889a7a1",
   "metadata": {},
   "outputs": [
    {
     "name": "stdout",
     "output_type": "stream",
     "text": [
      "['quick', 'brown', 'jumps', 'lazy', 'dog', 'cats', 'friendly', 'animals']\n"
     ]
    }
   ],
   "source": [
    "#  CLEAN TEXT\n",
    "## Final TEXT\n",
    "def clean(text):\n",
    "    text=\"\".join([char for char in text if char not in punctuation])\n",
    "    tokens = word_tokenize(text.lower())\n",
    "    text = [word for word in tokens if word not in stopwords]\n",
    "    return text\n",
    "\n",
    "print(clean(text))"
   ]
  },
  {
   "cell_type": "code",
   "execution_count": 36,
   "id": "504b6127",
   "metadata": {},
   "outputs": [
    {
     "name": "stdout",
     "output_type": "stream",
     "text": [
      "['love', 'doesnt', 'give', 'fuck']\n"
     ]
    }
   ],
   "source": [
    "def clean(text):\n",
    "    text=\"\".join([char for char in text if char not in punctuation])\n",
    "    tokens = word_tokenize(text.lower())\n",
    "    text = [word for word in tokens if word not in stopwords]\n",
    "    return text\n",
    "\n",
    "print(clean(\"i love her, but she doesn't give fuck to me\"))"
   ]
  },
  {
   "cell_type": "code",
   "execution_count": null,
   "id": "b4c5008e",
   "metadata": {},
   "outputs": [],
   "source": []
  },
  {
   "cell_type": "code",
   "execution_count": 13,
   "id": "c443eb2a",
   "metadata": {},
   "outputs": [
    {
     "data": {
      "text/plain": [
       "[('.', 2), ('The', 1), ('quick', 1), ('brown', 1), ('for', 1)]"
      ]
     },
     "execution_count": 13,
     "metadata": {},
     "output_type": "execute_result"
    }
   ],
   "source": [
    "from nltk.probability import FreqDist\n",
    "dist=FreqDist(text_tok)\n",
    "dist.most_common(5)"
   ]
  },
  {
   "cell_type": "code",
   "execution_count": 14,
   "id": "c0ff8a0b",
   "metadata": {},
   "outputs": [
    {
     "data": {
      "text/plain": [
       "[('okk', 2), ('oye', 1), ('gand', 1)]"
      ]
     },
     "execution_count": 14,
     "metadata": {},
     "output_type": "execute_result"
    }
   ],
   "source": [
    "dist=FreqDist([\"okk\",\"oye\",\"okk\",\"gand\"])\n",
    "dist.most_common(5)"
   ]
  },
  {
   "cell_type": "code",
   "execution_count": null,
   "id": "6f9ee68a",
   "metadata": {},
   "outputs": [],
   "source": []
  }
 ],
 "metadata": {
  "kernelspec": {
   "display_name": "Python 3 (ipykernel)",
   "language": "python",
   "name": "python3"
  },
  "language_info": {
   "codemirror_mode": {
    "name": "ipython",
    "version": 3
   },
   "file_extension": ".py",
   "mimetype": "text/x-python",
   "name": "python",
   "nbconvert_exporter": "python",
   "pygments_lexer": "ipython3",
   "version": "3.11.5"
  }
 },
 "nbformat": 4,
 "nbformat_minor": 5
}

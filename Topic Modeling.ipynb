{
 "cells": [
  {
   "cell_type": "code",
   "execution_count": 3,
   "id": "4fd39b8e",
   "metadata": {},
   "outputs": [],
   "source": [
    "# its a type of unsupervised ml that identifies hidden topics in collection of text documents.\n",
    "# by assuming each documents in mixture of topics,"
   ]
  },
  {
   "cell_type": "code",
   "execution_count": 4,
   "id": "2ab331ab",
   "metadata": {},
   "outputs": [],
   "source": [
    "# Latent Dirichet Allocation\n",
    "# Non-Negative Matrix Factorization"
   ]
  },
  {
   "cell_type": "code",
   "execution_count": 22,
   "id": "13a37905",
   "metadata": {},
   "outputs": [],
   "source": [
    "import pandas as pd\n",
    "from sklearn.feature_extraction.text import TfidfVectorizer\n",
    "from sklearn.decomposition import LatentDirichletAllocation\n",
    "import spacy\n",
    "\n",
    "nlp = spacy.load(\"en_core_web_sm\")\n",
    "\n",
    "doc=[\"Cricket is a bat-and-ball game played between two teams of eleven players. It originated in England in the 16th century and is popular in many former colonies. The game is played on a field with a 22-yard pitch and a wicket at each end. One team bats and tries to score runs, while the other team fields and tries to prevent them. The game is divided into overs, each consisting oballsf six.\",\n",
    " \"Football, also called association football or soccer, is a game involving two teams of 11 players who try to maneuver the ball into the other team’s goal without using their hands or arms. The team that scores more goals wins. A football game is played between two teams of 11 players each. The game is on a rectangular pitch or field and none of the players can use their hands to touch the ball except for one goalkeeper in each team. A game of football lasts 90 minutes, divided into two halves of 45 minutes each.\"\n",
    "]"
   ]
  },
  {
   "cell_type": "code",
   "execution_count": 23,
   "id": "3954bca1",
   "metadata": {},
   "outputs": [],
   "source": [
    "# Create DataFrame to hold the manual documents\n",
    "pd.set_option(\"display.max_colwidth\",500)\n",
    "data=pd.DataFrame({\"text\":doc})"
   ]
  },
  {
   "cell_type": "code",
   "execution_count": 24,
   "id": "cfb79769",
   "metadata": {},
   "outputs": [
    {
     "data": {
      "text/html": [
       "<div>\n",
       "<style scoped>\n",
       "    .dataframe tbody tr th:only-of-type {\n",
       "        vertical-align: middle;\n",
       "    }\n",
       "\n",
       "    .dataframe tbody tr th {\n",
       "        vertical-align: top;\n",
       "    }\n",
       "\n",
       "    .dataframe thead th {\n",
       "        text-align: right;\n",
       "    }\n",
       "</style>\n",
       "<table border=\"1\" class=\"dataframe\">\n",
       "  <thead>\n",
       "    <tr style=\"text-align: right;\">\n",
       "      <th></th>\n",
       "      <th>text</th>\n",
       "    </tr>\n",
       "  </thead>\n",
       "  <tbody>\n",
       "    <tr>\n",
       "      <th>0</th>\n",
       "      <td>Cricket is a bat-and-ball game played between two teams of eleven players. It originated in England in the 16th century and is popular in many former colonies. The game is played on a field with a 22-yard pitch and a wicket at each end. One team bats and tries to score runs, while the other team fields and tries to prevent them. The game is divided into overs, each consisting oballsf six.</td>\n",
       "    </tr>\n",
       "    <tr>\n",
       "      <th>1</th>\n",
       "      <td>Football, also called association football or soccer, is a game involving two teams of 11 players who try to maneuver the ball into the other team’s goal without using their hands or arms. The team that scores more goals wins. A football game is played between two teams of 11 players each. The game is on a rectangular pitch or field and none of the players can use their hands to touch the ball except for one goalkeeper in each team. A game of football lasts 90 minutes, divided into two halve...</td>\n",
       "    </tr>\n",
       "  </tbody>\n",
       "</table>\n",
       "</div>"
      ],
      "text/plain": [
       "                                                                                                                                                                                                                                                                                                                                                                                                                                                                                                                  text\n",
       "0                                                                                                              Cricket is a bat-and-ball game played between two teams of eleven players. It originated in England in the 16th century and is popular in many former colonies. The game is played on a field with a 22-yard pitch and a wicket at each end. One team bats and tries to score runs, while the other team fields and tries to prevent them. The game is divided into overs, each consisting oballsf six.\n",
       "1  Football, also called association football or soccer, is a game involving two teams of 11 players who try to maneuver the ball into the other team’s goal without using their hands or arms. The team that scores more goals wins. A football game is played between two teams of 11 players each. The game is on a rectangular pitch or field and none of the players can use their hands to touch the ball except for one goalkeeper in each team. A game of football lasts 90 minutes, divided into two halve..."
      ]
     },
     "execution_count": 24,
     "metadata": {},
     "output_type": "execute_result"
    }
   ],
   "source": [
    "data"
   ]
  },
  {
   "cell_type": "code",
   "execution_count": 25,
   "id": "e91f5d24",
   "metadata": {},
   "outputs": [],
   "source": [
    "# Preprocessing:Tokenization,stopwords removal and Lemmatization using spaCy\n",
    "def preprocess(text):\n",
    "    doc=nlp(text)\n",
    "    processed_tokens=[token.lemma_ for token in doc if not token.is_stop and token.is_alpha]\n",
    "    return ' '.join(processed_tokens)"
   ]
  },
  {
   "cell_type": "code",
   "execution_count": 26,
   "id": "2d00b6e4",
   "metadata": {},
   "outputs": [
    {
     "data": {
      "text/html": [
       "<div>\n",
       "<style scoped>\n",
       "    .dataframe tbody tr th:only-of-type {\n",
       "        vertical-align: middle;\n",
       "    }\n",
       "\n",
       "    .dataframe tbody tr th {\n",
       "        vertical-align: top;\n",
       "    }\n",
       "\n",
       "    .dataframe thead th {\n",
       "        text-align: right;\n",
       "    }\n",
       "</style>\n",
       "<table border=\"1\" class=\"dataframe\">\n",
       "  <thead>\n",
       "    <tr style=\"text-align: right;\">\n",
       "      <th></th>\n",
       "      <th>text</th>\n",
       "      <th>processed_text</th>\n",
       "    </tr>\n",
       "  </thead>\n",
       "  <tbody>\n",
       "    <tr>\n",
       "      <th>0</th>\n",
       "      <td>Cricket is a bat-and-ball game played between two teams of eleven players. It originated in England in the 16th century and is popular in many former colonies. The game is played on a field with a 22-yard pitch and a wicket at each end. One team bats and tries to score runs, while the other team fields and tries to prevent them. The game is divided into overs, each consisting oballsf six.</td>\n",
       "      <td>cricket bat ball game play team player originate England century popular colony game play field yard pitch wicket end team bat try score run team field try prevent game divide over consist oballsf</td>\n",
       "    </tr>\n",
       "    <tr>\n",
       "      <th>1</th>\n",
       "      <td>Football, also called association football or soccer, is a game involving two teams of 11 players who try to maneuver the ball into the other team’s goal without using their hands or arms. The team that scores more goals wins. A football game is played between two teams of 11 players each. The game is on a rectangular pitch or field and none of the players can use their hands to touch the ball except for one goalkeeper in each team. A game of football lasts 90 minutes, divided into two halve...</td>\n",
       "      <td>football call association football soccer game involve team player try maneuver ball team goal hand arm team score goal win football game play team player game rectangular pitch field player use hand touch ball goalkeeper team game football last minute divide half minute</td>\n",
       "    </tr>\n",
       "  </tbody>\n",
       "</table>\n",
       "</div>"
      ],
      "text/plain": [
       "                                                                                                                                                                                                                                                                                                                                                                                                                                                                                                                  text  \\\n",
       "0                                                                                                              Cricket is a bat-and-ball game played between two teams of eleven players. It originated in England in the 16th century and is popular in many former colonies. The game is played on a field with a 22-yard pitch and a wicket at each end. One team bats and tries to score runs, while the other team fields and tries to prevent them. The game is divided into overs, each consisting oballsf six.   \n",
       "1  Football, also called association football or soccer, is a game involving two teams of 11 players who try to maneuver the ball into the other team’s goal without using their hands or arms. The team that scores more goals wins. A football game is played between two teams of 11 players each. The game is on a rectangular pitch or field and none of the players can use their hands to touch the ball except for one goalkeeper in each team. A game of football lasts 90 minutes, divided into two halve...   \n",
       "\n",
       "                                                                                                                                                                                                                                                                    processed_text  \n",
       "0                                                                             cricket bat ball game play team player originate England century popular colony game play field yard pitch wicket end team bat try score run team field try prevent game divide over consist oballsf  \n",
       "1  football call association football soccer game involve team player try maneuver ball team goal hand arm team score goal win football game play team player game rectangular pitch field player use hand touch ball goalkeeper team game football last minute divide half minute  "
      ]
     },
     "execution_count": 26,
     "metadata": {},
     "output_type": "execute_result"
    }
   ],
   "source": [
    "data['processed_text'] = data[\"text\"].apply(preprocess)\n",
    "data"
   ]
  },
  {
   "cell_type": "markdown",
   "id": "bff5a1b4",
   "metadata": {},
   "source": [
    "Create TF-IDF Vectorizer and Fit The Model"
   ]
  },
  {
   "cell_type": "code",
   "execution_count": 32,
   "id": "021e6f05",
   "metadata": {
    "scrolled": false
   },
   "outputs": [
    {
     "name": "stdout",
     "output_type": "stream",
     "text": [
      "[[0.44963716 0.44963716 0.61853184 0.66579836 0.44963716 0.49858257\n",
      "  0.49858257 0.49858257 0.49858257 0.5343935  0.49858257 0.49858257\n",
      "  0.6534248  0.8044746  1.02520649 0.56771716 0.44963716 0.44963716\n",
      "  0.56771716 0.44963716 0.44963716 0.44963716 0.56771716 0.49858257\n",
      "  0.49858257 0.49858257 0.5343935  0.6534248  0.70274201 0.49858257\n",
      "  0.49858257 0.44963716 0.49858257 0.5343935  0.44963716 1.10943983\n",
      "  0.44963716 0.6534248  0.44963716 0.49858257 0.44963716 0.49858257]\n",
      " [0.33436435 0.33436435 0.33447798 0.33442273 0.33436435 0.33436962\n",
      "  0.33436962 0.33436962 0.33436962 0.33443788 0.33436962 0.33436962\n",
      "  0.33444775 0.33449503 0.33441028 0.33450746 0.33436435 0.33436435\n",
      "  0.33450746 0.33436435 0.33436435 0.33436435 0.33450746 0.33436962\n",
      "  0.33436962 0.33436962 0.33443788 0.33444775 0.33448218 0.33436962\n",
      "  0.33436962 0.33436435 0.33436962 0.33443788 0.33436435 0.3344029\n",
      "  0.33436435 0.33444775 0.33436435 0.33436962 0.33436435 0.33436962]\n",
      " [0.33436479 0.33436479 0.33447838 0.33442299 0.33436479 0.33436986\n",
      "  0.33436986 0.33436986 0.33436986 0.33443823 0.33436986 0.33436986\n",
      "  0.33444807 0.33449553 0.33441063 0.33450796 0.33436479 0.33436479\n",
      "  0.33450796 0.33436479 0.33436479 0.33436479 0.33450796 0.33436986\n",
      "  0.33436986 0.33436986 0.33443823 0.33444807 0.3344826  0.33436986\n",
      "  0.33436986 0.33436479 0.33436986 0.33443823 0.33436479 0.33440326\n",
      "  0.33436479 0.33444807 0.33436479 0.33436986 0.33436479 0.33436986]]\n"
     ]
    }
   ],
   "source": [
    "# Create TF-IDF Vectorizer \n",
    "vectorizer = TfidfVectorizer()\n",
    "\n",
    "# Transform the manual doc into TF-IDF vectors\n",
    "x=vectorizer.fit_transform(data[\"processed_text\"])\n",
    "\n",
    "# Create a Latent Dirichlet allocation model\n",
    "lda = LatentDirichletAllocation(n_components=3)\n",
    "\n",
    "# Fit model to TF-IDF vectors\n",
    "lda.fit(x)\n",
    "\n",
    "# Print the topic\n",
    "print(lda.components_)"
   ]
  },
  {
   "cell_type": "code",
   "execution_count": 33,
   "id": "a68ed464",
   "metadata": {},
   "outputs": [
    {
     "name": "stdout",
     "output_type": "stream",
     "text": [
      "Topic 1:\n",
      "team,game,football,player,bat\n",
      "\n",
      "Topic 2:\n",
      "hand,minute,goal,football,player\n",
      "\n",
      "Topic 3:\n",
      "hand,minute,goal,football,player\n",
      "\n"
     ]
    }
   ],
   "source": [
    "# Print Topics and their associated words\n",
    "for idx,topic in enumerate(lda.components_):\n",
    "    print(f\"Topic {idx+1}:\")\n",
    "    #   Get top 5 words with highest weights for this topic\n",
    "    top_words_idx=topic.argsort()[-5:][::-1]\n",
    "    top_words=[vectorizer.get_feature_names_out()[i] for i in top_words_idx]\n",
    "    print(\",\".join(top_words))\n",
    "    print()"
   ]
  },
  {
   "cell_type": "code",
   "execution_count": null,
   "id": "266625aa",
   "metadata": {},
   "outputs": [],
   "source": []
  },
  {
   "cell_type": "code",
   "execution_count": null,
   "id": "c7c75847",
   "metadata": {},
   "outputs": [],
   "source": []
  },
  {
   "cell_type": "code",
   "execution_count": null,
   "id": "26d07f4d",
   "metadata": {},
   "outputs": [],
   "source": []
  },
  {
   "cell_type": "code",
   "execution_count": null,
   "id": "176d9745",
   "metadata": {},
   "outputs": [],
   "source": []
  },
  {
   "cell_type": "code",
   "execution_count": null,
   "id": "30335898",
   "metadata": {},
   "outputs": [],
   "source": []
  },
  {
   "cell_type": "code",
   "execution_count": null,
   "id": "6b164487",
   "metadata": {},
   "outputs": [],
   "source": []
  },
  {
   "cell_type": "code",
   "execution_count": null,
   "id": "0119b387",
   "metadata": {},
   "outputs": [],
   "source": []
  },
  {
   "cell_type": "code",
   "execution_count": null,
   "id": "1e78fa4a",
   "metadata": {},
   "outputs": [],
   "source": []
  },
  {
   "cell_type": "code",
   "execution_count": null,
   "id": "7e91e916",
   "metadata": {},
   "outputs": [],
   "source": []
  },
  {
   "cell_type": "code",
   "execution_count": null,
   "id": "de43c6a8",
   "metadata": {},
   "outputs": [],
   "source": []
  },
  {
   "cell_type": "code",
   "execution_count": null,
   "id": "4b1666c4",
   "metadata": {},
   "outputs": [],
   "source": []
  }
 ],
 "metadata": {
  "kernelspec": {
   "display_name": "Python 3 (ipykernel)",
   "language": "python",
   "name": "python3"
  },
  "language_info": {
   "codemirror_mode": {
    "name": "ipython",
    "version": 3
   },
   "file_extension": ".py",
   "mimetype": "text/x-python",
   "name": "python",
   "nbconvert_exporter": "python",
   "pygments_lexer": "ipython3",
   "version": "3.11.5"
  }
 },
 "nbformat": 4,
 "nbformat_minor": 5
}

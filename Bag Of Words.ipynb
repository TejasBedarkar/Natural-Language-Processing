{
 "cells": [
  {
   "cell_type": "code",
   "execution_count": null,
   "id": "06815a1e",
   "metadata": {},
   "outputs": [],
   "source": [
    "((Convert text data into numerical features that ml algo. can work with)).The basic idea behind the bag of words approach is to \n",
    "represent a document as an unordered collection or \"bag\" of words, Disregarding grammar and word order, and focusing only\n",
    "on the freq. of words in the document."
   ]
  },
  {
   "cell_type": "code",
   "execution_count": null,
   "id": "1d9c97ad",
   "metadata": {},
   "outputs": [],
   "source": [
    "How This Technique Works:\n",
    "1.Tokenization:removing punct.,converting letters to lowercase,splitting text into individual words.\n",
    "2.Vocabulary Creation:\n",
    "3.Counting Word Freq.:\n",
    "4.Vectorization:"
   ]
  },
  {
   "cell_type": "code",
   "execution_count": 1,
   "id": "51e72193",
   "metadata": {},
   "outputs": [],
   "source": [
    "sentences=[\n",
    "    \"Jim and Pam travelled by bus.\",\n",
    "    \"The train was late.\",\n",
    "    \"The flight was full. Traveling by flight is expensive.\"\n",
    "]"
   ]
  },
  {
   "cell_type": "code",
   "execution_count": 2,
   "id": "7371479b",
   "metadata": {},
   "outputs": [],
   "source": [
    "from sklearn.feature_extraction.text import CountVectorizer"
   ]
  },
  {
   "cell_type": "code",
   "execution_count": 4,
   "id": "47b4d80f",
   "metadata": {},
   "outputs": [],
   "source": [
    "vectorizer = CountVectorizer()\n",
    "x=vectorizer.fit_transform(sentences) #Transform the sentences into a document-term matrix."
   ]
  },
  {
   "cell_type": "code",
   "execution_count": 7,
   "id": "5e43cd85",
   "metadata": {},
   "outputs": [
    {
     "name": "stdout",
     "output_type": "stream",
     "text": [
      "['and' 'bus' 'by' 'expensive' 'flight' 'full' 'is' 'jim' 'late' 'pam'\n",
      " 'the' 'train' 'traveling' 'travelled' 'was']\n"
     ]
    },
    {
     "data": {
      "text/plain": [
       "15"
      ]
     },
     "execution_count": 7,
     "metadata": {},
     "output_type": "execute_result"
    }
   ],
   "source": [
    "# Get the vocabalary( list of words)\n",
    "vocabalary = vectorizer.get_feature_names_out()\n",
    "print(vocabalary)\n",
    "len(vocabalary)"
   ]
  },
  {
   "cell_type": "code",
   "execution_count": 6,
   "id": "0c6c23cf",
   "metadata": {},
   "outputs": [
    {
     "data": {
      "text/plain": [
       "array([[1, 1, 1, 0, 0, 0, 0, 1, 0, 1, 0, 0, 0, 1, 0],\n",
       "       [0, 0, 0, 0, 0, 0, 0, 0, 1, 0, 1, 1, 0, 0, 1],\n",
       "       [0, 0, 1, 1, 2, 1, 1, 0, 0, 0, 1, 0, 1, 0, 1]], dtype=int64)"
      ]
     },
     "execution_count": 6,
     "metadata": {},
     "output_type": "execute_result"
    }
   ],
   "source": [
    "x_array = x.toarray()\n",
    "x_array"
   ]
  }
 ],
 "metadata": {
  "kernelspec": {
   "display_name": "Python 3 (ipykernel)",
   "language": "python",
   "name": "python3"
  },
  "language_info": {
   "codemirror_mode": {
    "name": "ipython",
    "version": 3
   },
   "file_extension": ".py",
   "mimetype": "text/x-python",
   "name": "python",
   "nbconvert_exporter": "python",
   "pygments_lexer": "ipython3",
   "version": "3.11.5"
  }
 },
 "nbformat": 4,
 "nbformat_minor": 5
}

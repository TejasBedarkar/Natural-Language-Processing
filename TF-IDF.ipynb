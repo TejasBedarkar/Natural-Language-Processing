{
 "cells": [
  {
   "cell_type": "code",
   "execution_count": null,
   "id": "8de1112d",
   "metadata": {},
   "outputs": [],
   "source": [
    "Term Freq. - Inverse Document Freq.\n",
    "Crucial concept and info. retrieval.\n",
    "Numerical representation that helps quantify the importance of words in a collection of documents."
   ]
  },
  {
   "cell_type": "markdown",
   "id": "cf6c48c7",
   "metadata": {},
   "source": [
    "Term Frequency"
   ]
  },
  {
   "cell_type": "code",
   "execution_count": null,
   "id": "fd849e07",
   "metadata": {},
   "outputs": [],
   "source": [
    "How often a term appears in a document.\n",
    "\n",
    "Cal.: TF=(Number of items term appears in document)/(Total no.of term in document)\n",
    "    \n",
    "e.g.:In a document with 100 words,if a term appears 5times,TF=5/100=0.05"
   ]
  },
  {
   "cell_type": "markdown",
   "id": "6bd7f777",
   "metadata": {},
   "source": [
    "Inverse Document Freq."
   ]
  },
  {
   "cell_type": "code",
   "execution_count": null,
   "id": "1554fbc0",
   "metadata": {},
   "outputs": [],
   "source": [
    "Measures how unique or rae a term is across all documents.\n",
    "\n",
    "log((Total no. of documents)/(No. of documents containing the term))\n",
    "\n",
    "e.g.:if there are 1000 documents and a term appears in 100 documents,IDF=log(1000/100)=1."
   ]
  },
  {
   "cell_type": "code",
   "execution_count": null,
   "id": "bf0875bc",
   "metadata": {},
   "outputs": [],
   "source": [
    "cal: TF-IDF:  TF*IDF"
   ]
  },
  {
   "cell_type": "code",
   "execution_count": null,
   "id": "77ab6e13",
   "metadata": {},
   "outputs": [],
   "source": [
    "Interpretation:\n",
    "    High TF-IDF values indicates term that are both frequent in a specific document and rare across\n",
    "    other documenst,hence carrung significant meaning\n",
    "    \n",
    "importance:\n",
    "    Low TF-IDF valus suggest common terms that might not convey specialized info."
   ]
  },
  {
   "cell_type": "code",
   "execution_count": 1,
   "id": "a7242d98",
   "metadata": {},
   "outputs": [],
   "source": [
    "from sklearn.feature_extraction.text import TfidfVectorizer"
   ]
  },
  {
   "cell_type": "code",
   "execution_count": 2,
   "id": "bb9d9b78",
   "metadata": {},
   "outputs": [],
   "source": [
    "documents=[\n",
    "    \"Jim and Pam travelled by bus.\",\n",
    "    \"The train was late.\",\n",
    "    \"The flight was full. Traveling by flight is expensive.\"\n",
    "]"
   ]
  },
  {
   "cell_type": "code",
   "execution_count": 3,
   "id": "66d6191e",
   "metadata": {},
   "outputs": [],
   "source": [
    "tfidf_vectorizer = TfidfVectorizer() # Initialize tf-idf vectorizer\n",
    "\n",
    "# Fit and transform the documents to cal. TF-IDF scores\n",
    "tdidf_matrix = tfidf_vectorizer.fit_transform(documents)"
   ]
  },
  {
   "cell_type": "code",
   "execution_count": 4,
   "id": "4eb669c2",
   "metadata": {},
   "outputs": [],
   "source": [
    "# Get the list of feature names (words)\n",
    "feature_names = tfidf_vectorizer.get_feature_names_out()"
   ]
  },
  {
   "cell_type": "code",
   "execution_count": 6,
   "id": "c3ea3eea",
   "metadata": {},
   "outputs": [
    {
     "name": "stdout",
     "output_type": "stream",
     "text": [
      "TF-IDF Matrix\n",
      "[[0.42339448 0.42339448 0.32200242 0.         0.         0.\n",
      "  0.         0.42339448 0.         0.42339448 0.         0.\n",
      "  0.         0.42339448 0.        ]\n",
      " [0.         0.         0.         0.         0.         0.\n",
      "  0.         0.         0.5628291  0.         0.42804604 0.5628291\n",
      "  0.         0.         0.42804604]\n",
      " [0.         0.         0.24374827 0.32049968 0.64099936 0.32049968\n",
      "  0.32049968 0.         0.         0.         0.24374827 0.\n",
      "  0.32049968 0.         0.24374827]]\n"
     ]
    }
   ],
   "source": [
    "# Display\n",
    "print(\"TF-IDF Matrix\")\n",
    "print(tdidf_matrix.toarray())"
   ]
  },
  {
   "cell_type": "code",
   "execution_count": 7,
   "id": "61f39295",
   "metadata": {},
   "outputs": [
    {
     "name": "stdout",
     "output_type": "stream",
     "text": [
      "Feature Names: \n",
      "['and' 'bus' 'by' 'expensive' 'flight' 'full' 'is' 'jim' 'late' 'pam'\n",
      " 'the' 'train' 'traveling' 'travelled' 'was']\n"
     ]
    }
   ],
   "source": [
    "print(\"Feature Names: \")\n",
    "print(feature_names)"
   ]
  },
  {
   "cell_type": "code",
   "execution_count": null,
   "id": "94fcfbd5",
   "metadata": {},
   "outputs": [],
   "source": [
    "Applicatins:\n",
    "    Search Engines \n",
    "    Text Summarization\n",
    "    Document Classification\n",
    "    \n",
    "Limitations:\n",
    "    TF-IDF doesn't consider context or meaning of words.\n",
    "    Prone to high-Frequency term dominating the importance."
   ]
  }
 ],
 "metadata": {
  "kernelspec": {
   "display_name": "Python 3 (ipykernel)",
   "language": "python",
   "name": "python3"
  },
  "language_info": {
   "codemirror_mode": {
    "name": "ipython",
    "version": 3
   },
   "file_extension": ".py",
   "mimetype": "text/x-python",
   "name": "python",
   "nbconvert_exporter": "python",
   "pygments_lexer": "ipython3",
   "version": "3.11.5"
  }
 },
 "nbformat": 4,
 "nbformat_minor": 5
}

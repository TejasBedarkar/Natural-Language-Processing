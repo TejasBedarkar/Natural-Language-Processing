{
 "cells": [
  {
   "cell_type": "markdown",
   "id": "fb697db3",
   "metadata": {},
   "source": [
    "Stammer"
   ]
  },
  {
   "cell_type": "code",
   "execution_count": 18,
   "id": "963a1e06",
   "metadata": {},
   "outputs": [],
   "source": [
    "words=[\"study\",\"studing\",\"studies\",\"studied\",\"go\",\"went\",\"gone\"]# == Study"
   ]
  },
  {
   "cell_type": "code",
   "execution_count": 1,
   "id": "f9c1d261",
   "metadata": {},
   "outputs": [],
   "source": [
    "from nltk.stem import PorterStemmer\n",
    "ps = PorterStemmer()"
   ]
  },
  {
   "cell_type": "code",
   "execution_count": 19,
   "id": "e375ecbb",
   "metadata": {},
   "outputs": [
    {
     "name": "stdout",
     "output_type": "stream",
     "text": [
      "studi\n",
      "stude\n",
      "studi\n",
      "studi\n",
      "go\n",
      "went\n",
      "gone\n"
     ]
    }
   ],
   "source": [
    "for word in words:\n",
    "    print(ps.stem(word))"
   ]
  },
  {
   "cell_type": "markdown",
   "id": "07770fc8",
   "metadata": {},
   "source": [
    "Lemmmatization"
   ]
  },
  {
   "cell_type": "code",
   "execution_count": 7,
   "id": "2e78fee3",
   "metadata": {},
   "outputs": [],
   "source": [
    "from nltk import WordNetLemmatizer\n",
    "lemma = WordNetLemmatizer()"
   ]
  },
  {
   "cell_type": "code",
   "execution_count": 11,
   "id": "8bef59ea",
   "metadata": {},
   "outputs": [
    {
     "name": "stderr",
     "output_type": "stream",
     "text": [
      "[nltk_data] Downloading package wordnet to\n",
      "[nltk_data]     C:\\Users\\Asus\\AppData\\Roaming\\nltk_data...\n"
     ]
    },
    {
     "data": {
      "text/plain": [
       "True"
      ]
     },
     "execution_count": 11,
     "metadata": {},
     "output_type": "execute_result"
    }
   ],
   "source": [
    "import nltk\n",
    "nltk.download('wordnet')"
   ]
  },
  {
   "cell_type": "code",
   "execution_count": 14,
   "id": "21a2b1b5",
   "metadata": {},
   "outputs": [],
   "source": [
    "words=[\"study\",\"studing\",\"studies\",\"studied\",\"go\",\"went\",\"gone\"]"
   ]
  },
  {
   "cell_type": "code",
   "execution_count": 17,
   "id": "7d11ea7a",
   "metadata": {},
   "outputs": [
    {
     "name": "stdout",
     "output_type": "stream",
     "text": [
      "study\n",
      "stud\n",
      "study\n",
      "study\n",
      "go\n",
      "go\n",
      "go\n"
     ]
    }
   ],
   "source": [
    "for word in words:\n",
    "    print(lemma.lemmatize(word,pos=\"v\"))"
   ]
  }
 ],
 "metadata": {
  "kernelspec": {
   "display_name": "Python 3 (ipykernel)",
   "language": "python",
   "name": "python3"
  },
  "language_info": {
   "codemirror_mode": {
    "name": "ipython",
    "version": 3
   },
   "file_extension": ".py",
   "mimetype": "text/x-python",
   "name": "python",
   "nbconvert_exporter": "python",
   "pygments_lexer": "ipython3",
   "version": "3.11.5"
  }
 },
 "nbformat": 4,
 "nbformat_minor": 5
}
